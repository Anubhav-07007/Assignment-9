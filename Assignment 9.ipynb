{
 "cells": [
  {
   "cell_type": "code",
   "execution_count": 1,
   "id": "7f70aea6",
   "metadata": {},
   "outputs": [
    {
     "data": {
      "text/plain": [
       "'C:\\\\Users\\\\welcome'"
      ]
     },
     "execution_count": 1,
     "metadata": {},
     "output_type": "execute_result"
    }
   ],
   "source": [
    "# 1. To what does a relative path refer?\n",
    "\n",
    "\n",
    "import os\n",
    "\n",
    "os.getcwd()"
   ]
  },
  {
   "cell_type": "code",
   "execution_count": 13,
   "id": "54a64f28",
   "metadata": {},
   "outputs": [],
   "source": [
    "# What does an absolute path start with your operating system?\n",
    "\n",
    "# 3. What do the functions os.getcwd() & os.chdir() do?\n",
    "\n",
    "# os.getcwd() confirm the current path\n",
    "\n",
    "# os.chdir change the path of directory\n",
    "\n",
    "os.chdir('C:\\\\Users\\\\welcome')"
   ]
  },
  {
   "cell_type": "code",
   "execution_count": 14,
   "id": "71ff772b",
   "metadata": {},
   "outputs": [],
   "source": [
    "# 5. In C:\\bacon\\eggs\\spam.txt, which part is the dir name, and which part is the base name?\n",
    "\n",
    "# C:\\bacon\\eggs\\   dir name\n",
    "\n",
    "# spam.txt base name"
   ]
  },
  {
   "cell_type": "code",
   "execution_count": 16,
   "id": "a6c7f0ae",
   "metadata": {},
   "outputs": [],
   "source": [
    "# What are the three “mode” arguments that can be passed to the open() function?\n",
    "\n",
    "f=open('anu.txt','w')\n",
    "f.write('aiduhofjdojafo')\n",
    "f.close()"
   ]
  },
  {
   "cell_type": "code",
   "execution_count": 17,
   "id": "0dca5a07",
   "metadata": {},
   "outputs": [],
   "source": [
    "# What happens if an existing file is opened in write mode?\n",
    "\n",
    "# if we open existing file in write mode privous data delete automatic."
   ]
  },
  {
   "cell_type": "code",
   "execution_count": 18,
   "id": "c000a9f6",
   "metadata": {},
   "outputs": [],
   "source": [
    "# 8. How do you tell the difference between read() and readlines()?\n",
    "\n",
    "# read() used for read the file\n",
    "\n",
    "# readline() used for how many line we have or we can read particular line as well"
   ]
  },
  {
   "cell_type": "code",
   "execution_count": null,
   "id": "b72aa74f",
   "metadata": {},
   "outputs": [],
   "source": []
  }
 ],
 "metadata": {
  "kernelspec": {
   "display_name": "Python 3 (ipykernel)",
   "language": "python",
   "name": "python3"
  },
  "language_info": {
   "codemirror_mode": {
    "name": "ipython",
    "version": 3
   },
   "file_extension": ".py",
   "mimetype": "text/x-python",
   "name": "python",
   "nbconvert_exporter": "python",
   "pygments_lexer": "ipython3",
   "version": "3.9.7"
  }
 },
 "nbformat": 4,
 "nbformat_minor": 5
}
